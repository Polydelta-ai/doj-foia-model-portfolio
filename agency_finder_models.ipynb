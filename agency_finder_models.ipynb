{
 "cells": [
  {
   "attachments": {},
   "cell_type": "markdown",
   "metadata": {},
   "source": [
    "## Import Necessary Libraries\n",
    "Run this cell to import all of the necessary libraries needed for the Agency Recommendation Service Model Testing Notebook."
   ]
  },
  {
   "cell_type": "code",
   "execution_count": null,
   "metadata": {},
   "outputs": [],
   "source": [
    "from agency_finder.agency_run_model import getModel, inference"
   ]
  },
  {
   "attachments": {},
   "cell_type": "markdown",
   "metadata": {},
   "source": [
    "## Model Selection\n",
    "\n",
    "Run this cell to select a model you wish to test by stting `m` equal to a number 0 to 5, in accordance with the model's position in the `model_name` list."
   ]
  },
  {
   "cell_type": "code",
   "execution_count": null,
   "metadata": {},
   "outputs": [],
   "source": [
    "model_names = [\n",
    "    'Base_Sep_CNN',\n",
    "    '16_Unit_Conv_Layer',\n",
    "    '32_Unit_Conv_Layer',\n",
    "    'Kernel_Size_5',\n",
    "    'Kernel_Size_7',\n",
    "    '1_Conv_Block',\n",
    "]\n",
    "\n",
    "m = 0"
   ]
  },
  {
   "attachments": {},
   "cell_type": "markdown",
   "metadata": {},
   "source": [
    "## Test Sentence Selection\n",
    "Run this cell to select to test by setting `p` equal to a number 0 to 3, in accordance with the sentence's postion in the `example_inputs` list."
   ]
  },
  {
   "cell_type": "code",
   "execution_count": null,
   "metadata": {},
   "outputs": [],
   "source": [
    "example_inputs = [\n",
    "    'I am searching for the Detention Facility Reviews for the Randall County Jail in Amarillo, Texas', \n",
    "    'Statements made by former georgia senator david perdue about visas.', \n",
    "    'All documents regarding the TSA’s throughput data for August 2017', \n",
    "    'A list of everyone that applied to Lead positions at LaGuardia Airport, NY. (Date Range for Record  Search: From 01/01/2017 To 03/01/2020)'\n",
    "]\n",
    "\n",
    "p = 0"
   ]
  },
  {
   "attachments": {},
   "cell_type": "markdown",
   "metadata": {},
   "source": [
    "## Model Initialization and Testing\n",
    "Run this cell to initial and test your selected model. "
   ]
  },
  {
   "cell_type": "code",
   "execution_count": null,
   "metadata": {},
   "outputs": [],
   "source": [
    "selected_model = getModel(model_names[m])\n",
    "\n",
    "inference(selected_model, example_inputs[p])"
   ]
  }
 ],
 "metadata": {
  "kernelspec": {
   "display_name": "doj-foia-env",
   "language": "python",
   "name": "python3"
  },
  "language_info": {
   "codemirror_mode": {
    "name": "ipython",
    "version": 3
   },
   "file_extension": ".py",
   "mimetype": "text/x-python",
   "name": "python",
   "nbconvert_exporter": "python",
   "pygments_lexer": "ipython3",
   "version": "3.10.10"
  }
 },
 "nbformat": 4,
 "nbformat_minor": 2
}
