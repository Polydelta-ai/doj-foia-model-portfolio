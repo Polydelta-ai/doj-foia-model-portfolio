{
 "cells": [
  {
   "cell_type": "code",
   "execution_count": 1,
   "metadata": {},
   "outputs": [],
   "source": [
    "from agency_finder.agency_run_model import getModel, inference"
   ]
  },
  {
   "cell_type": "code",
   "execution_count": 3,
   "metadata": {},
   "outputs": [],
   "source": [
    "model_names = [\n",
    "    'Base_Sep_CNN',\n",
    "    '16_Unit_Conv_Layer',\n",
    "    '32_Unit_Conv_Layer',\n",
    "    'Kernel_Size_5',\n",
    "    'Kernel_Size_7',\n",
    "    '1_Conv_Block',\n",
    "]\n",
    "\n",
    "m = 0"
   ]
  },
  {
   "cell_type": "code",
   "execution_count": 4,
   "metadata": {},
   "outputs": [],
   "source": [
    "example_inputs = [\n",
    "    'I am searching for the Detention Facility Reviews for the Randall County Jail in Amarillo, Texas', \n",
    "    'Statements made by former georgia senator david perdue about visas.', \n",
    "    'All documents regarding the TSA’s throughput data for August 2017', \n",
    "    'A list of everyone that applied to Lead positions at LaGuardia Airport, NY. (Date Range for Record  Search: From 01/01/2017 To 03/01/2020)'\n",
    "]\n",
    "\n",
    "p = 0"
   ]
  },
  {
   "cell_type": "code",
   "execution_count": 5,
   "metadata": {},
   "outputs": [
    {
     "name": "stdout",
     "output_type": "stream",
     "text": [
      "Metal device set to: Apple M1 Pro\n"
     ]
    },
    {
     "name": "stderr",
     "output_type": "stream",
     "text": [
      "2023-04-17 10:48:31.261532: W tensorflow/tsl/platform/profile_utils/cpu_utils.cc:128] Failed to get CPU frequency: 0 Hz\n"
     ]
    },
    {
     "name": "stdout",
     "output_type": "stream",
     "text": [
      "1/1 [==============================] - 0s 126ms/step\n"
     ]
    },
    {
     "data": {
      "text/plain": [
       "[('I am searching for the Detention Facility Reviews for the Randall County Jail in Amarillo, Texas',\n",
       "  [('cbp', 0.19648865),\n",
       "   ('scrtsrvc', 0.19561094),\n",
       "   ('fletc', 0.10054552),\n",
       "   ('dea', 0.06586397),\n",
       "   ('fema', 0.06092987),\n",
       "   ('nppd', 0.060150553),\n",
       "   ('oig', 0.05475629),\n",
       "   ('fps', 0.05457541),\n",
       "   ('tsa', 0.048227303),\n",
       "   ('st', 0.04666048),\n",
       "   ('ice', 0.045179788),\n",
       "   ('ia', 0.04409151),\n",
       "   ('crcl', 0.024069319),\n",
       "   ('obim', 0.00164488),\n",
       "   ('uscg', 0.00075246755),\n",
       "   ('mgmt', 0.0003060708),\n",
       "   ('oip', 0.00014483782),\n",
       "   ('ops', 2.1386002e-06),\n",
       "   ('uscis', 3.1478715e-09),\n",
       "   ('eoir', 2.6357355e-16)])]"
      ]
     },
     "execution_count": 5,
     "metadata": {},
     "output_type": "execute_result"
    }
   ],
   "source": [
    "selected_model = getModel(model_names[m])\n",
    "\n",
    "inference(selected_model, example_inputs[p])"
   ]
  },
  {
   "cell_type": "code",
   "execution_count": null,
   "metadata": {},
   "outputs": [],
   "source": []
  }
 ],
 "metadata": {
  "kernelspec": {
   "display_name": "Python [conda env:doj-foia-env]",
   "language": "python",
   "name": "conda-env-doj-foia-env-py"
  },
  "language_info": {
   "codemirror_mode": {
    "name": "ipython",
    "version": 3
   },
   "file_extension": ".py",
   "mimetype": "text/x-python",
   "name": "python",
   "nbconvert_exporter": "python",
   "pygments_lexer": "ipython3",
   "version": "3.10.10"
  }
 },
 "nbformat": 4,
 "nbformat_minor": 2
}
