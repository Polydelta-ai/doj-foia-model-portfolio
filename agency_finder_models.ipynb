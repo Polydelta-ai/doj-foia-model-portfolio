{
 "cells": [
  {
   "cell_type": "code",
   "execution_count": 1,
   "metadata": {},
   "outputs": [],
   "source": [
    "from agency_finder.agency_run_model import getModel, inference"
   ]
  },
  {
   "cell_type": "code",
   "execution_count": 2,
   "metadata": {},
   "outputs": [],
   "source": [
    "model_names = [\n",
    "    'Base_Sep_CNN',\n",
    "    '16_Unit_Conv_Layer',\n",
    "    '32_Unit_Conv_Layer',\n",
    "    'Kernel_Size_5',\n",
    "    'Kernel_Size_7',\n",
    "    '1_Conv_Block',\n",
    "]\n",
    "\n",
    "m = "
   ]
  },
  {
   "cell_type": "code",
   "execution_count": 3,
   "metadata": {},
   "outputs": [],
   "source": [
    "example_inputs = [\n",
    "    'I am searching for the Detention Facility Reviews for the Randall County Jail in Amarillo, Texas', \n",
    "    'Statements made by former georgia senator david perdue about visas.', \n",
    "    'All documents regarding the TSA’s throughput data for August 2017', \n",
    "    'A list of everyone that applied to Lead positions at LaGuardia Airport, NY. (Date Range for Record  Search: From 01/01/2017 To 03/01/2020)'\n",
    "]\n",
    "\n",
    "p = 0"
   ]
  },
  {
   "cell_type": "code",
   "execution_count": 4,
   "metadata": {},
   "outputs": [
    {
     "name": "stdout",
     "output_type": "stream",
     "text": [
      "Metal device set to: Apple M1 Pro\n",
      "\n",
      "systemMemory: 16.00 GB\n",
      "maxCacheSize: 5.33 GB\n",
      "\n"
     ]
    },
    {
     "name": "stderr",
     "output_type": "stream",
     "text": [
      "2023-04-16 23:47:11.019070: W tensorflow/tsl/platform/profile_utils/cpu_utils.cc:128] Failed to get CPU frequency: 0 Hz\n"
     ]
    },
    {
     "name": "stdout",
     "output_type": "stream",
     "text": [
      "1/1 [==============================] - 0s 113ms/step\n"
     ]
    },
    {
     "data": {
      "text/plain": [
       "[('I am searching for the Detention Facility Reviews for the Randall County Jail in Amarillo, Texas',\n",
       "  [('ice', 0.40313408),\n",
       "   ('scrtsrvc', 0.116407916),\n",
       "   ('cbp', 0.10873829),\n",
       "   ('fema', 0.075005405),\n",
       "   ('fletc', 0.046304066),\n",
       "   ('st', 0.042683065),\n",
       "   ('dea', 0.03658799),\n",
       "   ('crcl', 0.036086403),\n",
       "   ('nppd', 0.032091647),\n",
       "   ('tsa', 0.03146788),\n",
       "   ('fps', 0.02865422),\n",
       "   ('ia', 0.021813367),\n",
       "   ('oig', 0.017884884),\n",
       "   ('uscg', 0.0018135124),\n",
       "   ('mgmt', 0.0010618133),\n",
       "   ('obim', 0.00024477224),\n",
       "   ('oip', 1.1360629e-05),\n",
       "   ('ops', 9.114317e-06),\n",
       "   ('uscis', 2.5912993e-07),\n",
       "   ('eoir', 4.5589505e-16)])]"
      ]
     },
     "execution_count": 4,
     "metadata": {},
     "output_type": "execute_result"
    }
   ],
   "source": [
    "selected_model = getModel(model_names[m])\n",
    "\n",
    "inference(selected_model, example_inputs[p])"
   ]
  }
 ],
 "metadata": {
  "kernelspec": {
   "display_name": "Python 3",
   "language": "python",
   "name": "python3"
  },
  "language_info": {
   "codemirror_mode": {
    "name": "ipython",
    "version": 3
   },
   "file_extension": ".py",
   "mimetype": "text/x-python",
   "name": "python",
   "nbconvert_exporter": "python",
   "pygments_lexer": "ipython3",
   "version": "3.10.10"
  },
  "orig_nbformat": 4
 },
 "nbformat": 4,
 "nbformat_minor": 2
}
