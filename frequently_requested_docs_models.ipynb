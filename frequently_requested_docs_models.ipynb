{
 "cells": [
  {
   "attachments": {},
   "cell_type": "markdown",
   "metadata": {},
   "source": [
    "## Import Necessary Libraries\n",
    "Run this cell to import all of the necessary libraries needed for the Frequently Requested Documents Model Testing Notebook."
   ]
  },
  {
   "cell_type": "code",
   "execution_count": 1,
   "metadata": {},
   "outputs": [],
   "source": [
    "from sentence_transformers import SentenceTransformer, util\n",
    "import numpy as np\n",
    "import pandas as pd\n",
    "import os\n",
    "import pickle\n",
    "\n",
    "from frequently_requested_docs.docs_helper import getModel, getSaveName, loadEmbeddings, getEmbeddingPath, test_sentence\n",
    "from frequently_requested_docs.docs_config import TOP_K, MODEL_NAMES, DATA_CSV_PATH"
   ]
  },
  {
   "attachments": {},
   "cell_type": "markdown",
   "metadata": {},
   "source": [
    "## Model Selection and Initialization\n",
    "\n",
    "Run this cell to select and initialize a model you wish to test by choosing a number 0 to 8, in accordance with the model's position in the model_name list."
   ]
  },
  {
   "cell_type": "code",
   "execution_count": 2,
   "metadata": {},
   "outputs": [],
   "source": [
    "model_name = [\n",
    "    'nli-mpnet-base-v2',\n",
    "    'nli-roberta-base-v2',\n",
    "    'princeton-nlp/sup-simcse-roberta-large',\n",
    "    'princeton-nlp/unsup-simcse-roberta-large',\n",
    "    'stsb-distilroberta-base-v2',\n",
    "    'stsb-mpnet-base-v2',\n",
    "    'stsb-roberta-base',\n",
    "    'stsb-roberta-base-v2',\n",
    "    'stsb-roberta-large',\n",
    "]\n",
    "\n",
    "m = 0\n",
    "        "
   ]
  },
  {
   "cell_type": "code",
   "execution_count": 3,
   "metadata": {},
   "outputs": [
    {
     "name": "stdout",
     "output_type": "stream",
     "text": [
      "Loading model from disc\n"
     ]
    }
   ],
   "source": [
    "save_name = getSaveName(model_name[m])\n",
    "    \n",
    "model = getModel(model_name[m], save_name)"
   ]
  },
  {
   "attachments": {},
   "cell_type": "markdown",
   "metadata": {},
   "source": [
    "## Initialize and Load Corpus Embeddings\n",
    "Run this cell to initialize and load the corpus embeddings from the Frequently Requested Documents dataset. "
   ]
  },
  {
   "cell_type": "code",
   "execution_count": 4,
   "metadata": {},
   "outputs": [
    {
     "name": "stdout",
     "output_type": "stream",
     "text": [
      "Loading pre-computed embeddings from disc\n"
     ]
    }
   ],
   "source": [
    "# Format of corpus sentences\n",
    "corpus_docs = []\n",
    "data = pd.read_csv(DATA_CSV_PATH)\n",
    "data.reset_index()\n",
    "\n",
    "for ind, row in data.iterrows():\n",
    "    if isinstance(row['Document'], str):\n",
    "        corpus_docs.append(row)\n",
    "\n",
    "# Load corpus embeddings if exist, otherwise encode embeddings\n",
    "embedding_path = getEmbeddingPath(save_name)\n",
    "corpus_embeddings = None\n",
    "            \n",
    "corpus_docs, corpus_embeddings = loadEmbeddings(model, embedding_path, corpus_docs)\n",
    "        "
   ]
  },
  {
   "attachments": {},
   "cell_type": "markdown",
   "metadata": {},
   "source": [
    "## Test Sentence Selection\n",
    "Run this cell to select and embed a sentence to test by setting i equal to a number 0 to 2, in accordance with the sentence's postion in the examples list."
   ]
  },
  {
   "cell_type": "code",
   "execution_count": 5,
   "metadata": {},
   "outputs": [],
   "source": [
    "examples = [\n",
    "    'I am searching for the Detention Facility Reviews for the Randall County Jail in Amarillo, Texas', \n",
    "    'Statements made by former georgia senator david perdue about visas.', \n",
    "    \"All documents regarding the TSA’s throughput data for August 2017\"]\n",
    "\n",
    "i = 0\n"
   ]
  },
  {
   "cell_type": "code",
   "execution_count": 6,
   "metadata": {},
   "outputs": [
    {
     "name": "stdout",
     "output_type": "stream",
     "text": [
      "Sentence: I am searching for the Detention Facility Reviews for the Randall County Jail in Amarillo, Texas \n",
      "\n",
      "Top 25 most similar sentences in corpus:\n",
      "2008 | Randall County Jail (Feb. 14-15), Amarillo, TX  (Score: 0.6632)\n",
      "2008 | Randall County Jail (Feb. 10-12), Amarillo, TX  (Score: 0.6190)\n",
      "2007 | Randall County Sheriff's Office, Amarillo, TX  (Score: 0.6114)\n",
      "2007 | Bexar County, GEO Central Texas Detention Facility, San Antonio, TX  (Score: 0.6096)\n",
      "2009 | Central Texas Detention Facility, San Antonio, TX  (Score: 0.5924)\n",
      "2008 | Central Texas Detention Facility, San Antonio, TX  (Score: 0.5897)\n",
      "2007 | Frio County Detention Center, Pearsall, TX  (Score: 0.5883)\n",
      "2009 | Lubbock County Detention Center, Lubbock, TX  (Score: 0.5843)\n",
      "2007 | Lubbock County Detention Center, Lubbock, TX  (Score: 0.5799)\n",
      "2007 | Brooks County Detention Center, Falfurrias, TX  (Score: 0.5795)\n",
      "2007 | Webb County Detention Center, Laredo, TX  (Score: 0.5795)\n",
      "EROIGSA-15-0001: Prairieland Detention Center – Alvarado, TX (Score: 0.5775)\n",
      "2007 | South Texas Detention Facility, San Antonio, TX  (Score: 0.5770)\n",
      "2002 | Dallas County Detention Facility, Dallas, TX  (Score: 0.5769)\n",
      "2008 | Lubbock County Detention Center, Lubbock, TX  (Score: 0.5749)\n",
      "2008 | Webb County Detention Center, Laredo, TX  (Score: 0.5715)\n",
      "2008 | South Texas Detention Facility, San Antonio, TX  (Score: 0.5702)\n",
      "IAH Detention Center, Livingston (Polk County), TX  (Score: 0.5657)\n",
      "2007 | Taylor County Adult Detention Center, Abilene, TX  (Score: 0.5577)\n",
      "2009 | LaSalle County Regional Detention Center, Encinal, TX  (Score: 0.5569)\n",
      "2008 | Frio County Jail, Pearsall, TX  (Score: 0.5569)\n",
      "2007 | La Salle County Regional Detention Center, Encinal, TX  (Score: 0.5555)\n",
      "2009 | Rolling Plains Regional Jail and Detention Center, Haskel, TX  (Score: 0.5546)\n",
      "2008 | La Salle County Regional Detention Center, Encinal, TX  (Score: 0.5533)\n",
      "2009 | Ector County Detention Center, Odessa, TX  (Score: 0.5528)\n"
     ]
    }
   ],
   "source": [
    "sentence = examples[i]\n",
    "\n",
    "test_sentence(sentence, model, corpus_docs, corpus_embeddings, TOP_K)"
   ]
  }
 ],
 "metadata": {
  "kernelspec": {
   "display_name": "doj-foia-env",
   "language": "python",
   "name": "python3"
  },
  "language_info": {
   "codemirror_mode": {
    "name": "ipython",
    "version": 3
   },
   "file_extension": ".py",
   "mimetype": "text/x-python",
   "name": "python",
   "nbconvert_exporter": "python",
   "pygments_lexer": "ipython3",
   "version": "3.10.10"
  }
 },
 "nbformat": 4,
 "nbformat_minor": 2
}
