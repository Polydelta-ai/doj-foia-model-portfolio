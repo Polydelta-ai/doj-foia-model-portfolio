{
 "cells": [
  {
   "attachments": {},
   "cell_type": "markdown",
   "metadata": {},
   "source": [
    "## Import Necessary Libraries\n",
    "Run this cell to import all of the necessary libraries needed for the Frequently Requested Documents Model Testing Notebook."
   ]
  },
  {
   "cell_type": "code",
   "execution_count": null,
   "metadata": {},
   "outputs": [],
   "source": [
    "from sentence_transformers import SentenceTransformer, util\n",
    "import numpy as np\n",
    "import pandas as pd\n",
    "import os\n",
    "import pickle\n",
    "\n",
    "from frequently_requested_docs.docs_helper import getModel, getSaveName, loadEmbeddings, getEmbeddingPath, test_sentence\n",
    "from frequently_requested_docs.docs_config import TOP_K, MODEL_NAMES, DATA_CSV_PATH"
   ]
  },
  {
   "attachments": {},
   "cell_type": "markdown",
   "metadata": {},
   "source": [
    "## Model Selection and Initialization\n",
    "\n",
    "Run this cell to select and initialize a model you wish to test by setting `m` equal to a number 0 to 8, in accordance with the model's position in the `model_name` list."
   ]
  },
  {
   "cell_type": "code",
   "execution_count": null,
   "metadata": {},
   "outputs": [],
   "source": [
    "model_name = [\n",
    "    'nli-mpnet-base-v2',\n",
    "    'nli-roberta-base-v2',\n",
    "    'princeton-nlp/sup-simcse-roberta-large',\n",
    "    'princeton-nlp/unsup-simcse-roberta-large',\n",
    "    'stsb-distilroberta-base-v2',\n",
    "    'stsb-mpnet-base-v2',\n",
    "    'stsb-roberta-base',\n",
    "    'stsb-roberta-base-v2',\n",
    "    'stsb-roberta-large',\n",
    "]\n",
    "\n",
    "m = 0\n",
    "        "
   ]
  },
  {
   "cell_type": "code",
   "execution_count": null,
   "metadata": {},
   "outputs": [],
   "source": [
    "save_name = getSaveName(model_name[m])\n",
    "    \n",
    "model = getModel(model_name[m], save_name)"
   ]
  },
  {
   "attachments": {},
   "cell_type": "markdown",
   "metadata": {},
   "source": [
    "## Initialize and Load Corpus Embeddings\n",
    "Run this cell to initialize and load the corpus embeddings from the Frequently Requested Documents dataset. "
   ]
  },
  {
   "cell_type": "code",
   "execution_count": null,
   "metadata": {},
   "outputs": [],
   "source": [
    "# Format of corpus sentences\n",
    "corpus_docs = []\n",
    "data = pd.read_csv(DATA_CSV_PATH)\n",
    "data.reset_index()\n",
    "\n",
    "for ind, row in data.iterrows():\n",
    "    if isinstance(row['Document'], str):\n",
    "        corpus_docs.append(row)\n",
    "\n",
    "# Load corpus embeddings if exist, otherwise encode embeddings\n",
    "embedding_path = getEmbeddingPath(save_name)\n",
    "corpus_embeddings = None\n",
    "            \n",
    "corpus_docs, corpus_embeddings = loadEmbeddings(model, embedding_path, corpus_docs)\n",
    "        "
   ]
  },
  {
   "attachments": {},
   "cell_type": "markdown",
   "metadata": {},
   "source": [
    "## Test Sentence Selection\n",
    "Run this cell to select and embed a sentence to test by setting `i` equal to a number 0 to 2, in accordance with the sentence's postion in the `examples` list."
   ]
  },
  {
   "cell_type": "code",
   "execution_count": null,
   "metadata": {},
   "outputs": [],
   "source": [
    "examples = [\n",
    "    'I am searching for the Detention Facility Reviews for the Randall County Jail in Amarillo, Texas', \n",
    "    'Statements made by former georgia senator david perdue about visas.', \n",
    "    \"All documents regarding the TSA’s throughput data for August 2017\"]\n",
    "\n",
    "i = 0\n"
   ]
  },
  {
   "cell_type": "code",
   "execution_count": null,
   "metadata": {},
   "outputs": [],
   "source": [
    "sentence = examples[i]\n",
    "\n",
    "test_sentence(sentence, model, corpus_docs, corpus_embeddings, TOP_K)"
   ]
  }
 ],
 "metadata": {
  "kernelspec": {
   "display_name": "doj-foia-env",
   "language": "python",
   "name": "python3"
  },
  "language_info": {
   "codemirror_mode": {
    "name": "ipython",
    "version": 3
   },
   "file_extension": ".py",
   "mimetype": "text/x-python",
   "name": "python",
   "nbconvert_exporter": "python",
   "pygments_lexer": "ipython3",
   "version": "3.10.10"
  }
 },
 "nbformat": 4,
 "nbformat_minor": 2
}
