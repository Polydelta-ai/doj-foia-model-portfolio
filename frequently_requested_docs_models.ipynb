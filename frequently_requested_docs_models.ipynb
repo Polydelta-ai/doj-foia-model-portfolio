{
 "cells": [
  {
   "cell_type": "markdown",
   "metadata": {},
   "source": [
    "## Import Library"
   ]
  },
  {
   "cell_type": "code",
   "execution_count": 1,
   "metadata": {},
   "outputs": [],
   "source": [
    "# Imports\n",
    "from sentence_transformers import SentenceTransformer, util\n",
    "import numpy as np\n",
    "import pandas as pd\n",
    "# import mlflow\n",
    "import os\n",
    "import pickle\n",
    "\n",
    "from frequently_requested_docs.docs_helper import getModel, getSaveName, loadEmbeddings, getEmbeddingPath, test_sentence\n",
    "from frequently_requested_docs.docs_config import TOP_K, MODEL_NAMES, DATA_CSV_PATH"
   ]
  },
  {
   "cell_type": "markdown",
   "metadata": {},
   "source": [
    "## Model Selection and Initialization"
   ]
  },
  {
   "cell_type": "code",
   "execution_count": 2,
   "metadata": {},
   "outputs": [],
   "source": [
    "# List of models optimized for semantic textual similarity can be found at:\n",
    "# https://docs.google.com/spreadsheets/d/14QplCdTCDwEmTqrn1LH4yrbKvdogK4oQvYO1K1aPR5M/edit#gid=0\n",
    "\n",
    "model_name = [\n",
    "    'nli-mpnet-base-v2',\n",
    "    'nli-roberta-base-v2',\n",
    "    'princeton-nlp/sup-simcse-roberta-large',\n",
    "    'princeton-nlp/unsup-simcse-roberta-large',\n",
    "    'stsb-distilroberta-base-v2',\n",
    "    'stsb-mpnet-base-v2',\n",
    "    'stsb-roberta-base',\n",
    "    'stsb-roberta-base-v2',\n",
    "    'stsb-roberta-large',\n",
    "]\n",
    "\n",
    "m = 0\n",
    "        "
   ]
  },
  {
   "cell_type": "code",
   "execution_count": 3,
   "metadata": {},
   "outputs": [
    {
     "name": "stdout",
     "output_type": "stream",
     "text": [
      "Loading model from disc\n"
     ]
    }
   ],
   "source": [
    "# look at MODEL_NAMES in config.py for more model names to test\n",
    "save_name = getSaveName(model_name[m])\n",
    "    \n",
    "model = getModel(model_name[m], save_name)"
   ]
  },
  {
   "attachments": {},
   "cell_type": "markdown",
   "metadata": {},
   "source": [
    "## Retrieve Top K most similar docs from freqdoc dataset given a request"
   ]
  },
  {
   "cell_type": "code",
   "execution_count": 4,
   "metadata": {},
   "outputs": [
    {
     "name": "stdout",
     "output_type": "stream",
     "text": [
      "Loading pre-computed embeddings from disc\n"
     ]
    }
   ],
   "source": [
    "# Format of corpus sentences\n",
    "corpus_docs = []\n",
    "data = pd.read_csv(DATA_CSV_PATH)\n",
    "data.reset_index()\n",
    "\n",
    "for ind, row in data.iterrows():\n",
    "    if isinstance(row['Document'], str):\n",
    "        corpus_docs.append(row)\n",
    "\n",
    "# Load corpus embeddings if exist, otherwise encode embeddings\n",
    "embedding_path = getEmbeddingPath(save_name)\n",
    "corpus_embeddings = None\n",
    "            \n",
    "corpus_docs, corpus_embeddings = loadEmbeddings(model, embedding_path, corpus_docs)\n",
    "        "
   ]
  },
  {
   "cell_type": "code",
   "execution_count": 5,
   "metadata": {},
   "outputs": [],
   "source": [
    "# Test 1 or more sentences\n",
    "examples = [\n",
    "    'I am searching for the Detention Facility Reviews for the Randall County Jail in Amarillo, Texas', \n",
    "    'Statements made by former georgia senator david perdue about visas.', \n",
    "    \"All documents regarding the TSA’s throughput data for August 2017\"]\n",
    "\n",
    "i = 2\n"
   ]
  },
  {
   "cell_type": "code",
   "execution_count": 6,
   "metadata": {},
   "outputs": [
    {
     "name": "stdout",
     "output_type": "stream",
     "text": [
      "Sentence: All documents regarding the TSA’s throughput data for August 2017 \n",
      "\n",
      "Top 25 most similar sentences in corpus:\n",
      "TSA Throughput Data August 6, 2017 to August 12, 2017 (Score: 0.7647)\n",
      "TSA Throughput Data August 13, 2017 to August 19, 2017 (Score: 0.7618)\n",
      "TSA Throughput Data July 2, 2017 to July 8, 2017 (Score: 0.7550)\n",
      "TSA Throughput Data July 30, 2017 to August 5, 2017 (Score: 0.7524)\n",
      "TSA Throughput Data August 27, 2017 to September  02, 2017 (Score: 0.7513)\n",
      "TSA Throughput Data August 20, 2017 to August 26, 2017 (Score: 0.7479)\n",
      "TSA Throughput Data August 5, 2018 to August 11, 2018 (Score: 0.7421)\n",
      "TSA Throughput Data October 08, 2017 to October 14, 2017 (Score: 0.7338)\n",
      "TSA Throughput Data June 4, 2017 to June 10, 2017 (Score: 0.7249)\n",
      "TSA Throughput Data July 16, 2017 to July 22, 2017 (Score: 0.7185)\n",
      "TSA Throughput Data July 29, 2018 to August 4, 2018 (Score: 0.7155)\n",
      "TSA Throughput Data July 9, 2017 to July 15, 2017 (Score: 0.7153)\n",
      "TSA Throughput Data August 12, 2018 to August 18, 2018 (Score: 0.7096)\n",
      "TSA Throughput Data August 26, 2018 to September 1, 2018 (Score: 0.7092)\n",
      "TSA Throughput Data October 29, 2017 to November 04, 2017 (Score: 0.7076)\n",
      "TSA Throughput Data July 8, 2018 to July 14, 2018 Page Count: 942 (Score: 0.7061)\n",
      "TSA Throughput Data September 17, 2017 to September 23, 2017 (Score: 0.7056)\n",
      "TSA Throughput Data June 11, 2017 to June 17, 2017 (Score: 0.7051)\n",
      "TSA Throughput Data September 24, 2017 to September 30, 2017 (Score: 0.7042)\n",
      "TSA Throughput Data September 10, 2017 to September 16, 2017 (Score: 0.7038)\n",
      "TSA Throughput Data July 23, 2017 to July 29, 2017 (Score: 0.7006)\n",
      "TSA Throughput Data September 2, 2018 to September 8, 2018 (Score: 0.7002)\n",
      "TSA Throughput Data August 8, 2021 to August 14, 2021 (Score: 0.6995)\n",
      "TSA Throughput Data June 18, 2017 to June 24, 2017 (Score: 0.6986)\n",
      "TSA Throughput Data August 19, 2018 to August 25, 2018 (Score: 0.6952)\n"
     ]
    }
   ],
   "source": [
    "sentence = examples[i]\n",
    "\n",
    "test_sentence(sentence, model, corpus_docs, corpus_embeddings, TOP_K)"
   ]
  }
 ],
 "metadata": {
  "kernelspec": {
   "display_name": "Python 3 (ipykernel)",
   "language": "python",
   "name": "python3"
  },
  "language_info": {
   "codemirror_mode": {
    "name": "ipython",
    "version": 3
   },
   "file_extension": ".py",
   "mimetype": "text/x-python",
   "name": "python",
   "nbconvert_exporter": "python",
   "pygments_lexer": "ipython3",
   "version": "3.10.10"
  },
  "vscode": {
   "interpreter": {
    "hash": "7e1998ff7f8aa20ada591c520b972326324e5ea05489af9e422744c7c09f6dad"
   }
  }
 },
 "nbformat": 4,
 "nbformat_minor": 2
}
